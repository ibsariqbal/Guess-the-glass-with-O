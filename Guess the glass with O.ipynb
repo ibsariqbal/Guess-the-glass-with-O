{
 "cells": [
  {
   "cell_type": "code",
   "execution_count": 19,
   "id": "3446aed9",
   "metadata": {},
   "outputs": [],
   "source": [
    "from random import shuffle"
   ]
  },
  {
   "cell_type": "code",
   "execution_count": 28,
   "id": "5b7d26db",
   "metadata": {},
   "outputs": [],
   "source": [
    "def shuffle_list(any_list):\n",
    "    shuffle(any_list)\n",
    "    return any_list"
   ]
  },
  {
   "cell_type": "code",
   "execution_count": 21,
   "id": "e36ace1c",
   "metadata": {},
   "outputs": [],
   "source": [
    "def player_guess():\n",
    "    \n",
    "    guess = ''\n",
    "    \n",
    "    while guess not in ['0','1','2']:\n",
    "        guess = input(\"Please enter you guess : 0 , 1 or 2 - \")\n",
    "    \n",
    "    return int(guess)"
   ]
  },
  {
   "cell_type": "code",
   "execution_count": 22,
   "id": "b66f3a18",
   "metadata": {},
   "outputs": [],
   "source": [
    "def check_guess(my_list,guess):\n",
    "    \n",
    "    if my_list[guess] == 'O':\n",
    "        print(\"Correct\")\n",
    "    else:\n",
    "        print('Worng')\n",
    "        print(my_list)"
   ]
  },
  {
   "cell_type": "code",
   "execution_count": 31,
   "id": "de349b00",
   "metadata": {},
   "outputs": [
    {
     "name": "stdout",
     "output_type": "stream",
     "text": [
      "Please enter you guess : 0 , 1 or 2 - 0\n",
      "Correct\n"
     ]
    }
   ],
   "source": [
    "#Create a list\n",
    "my_list = [' ','O',' ']\n",
    "\n",
    "#Shuffle_list\n",
    "mixed_list = shuffle_list(my_list)\n",
    "\n",
    "#Let the player guess\n",
    "p_guess = player_guess()\n",
    "\n",
    "#Check player guess\n",
    "check_guess(mixed_list,p_guess)"
   ]
  },
  {
   "cell_type": "code",
   "execution_count": null,
   "id": "a7355615",
   "metadata": {},
   "outputs": [],
   "source": []
  }
 ],
 "metadata": {
  "kernelspec": {
   "display_name": "Python 3 (ipykernel)",
   "language": "python",
   "name": "python3"
  },
  "language_info": {
   "codemirror_mode": {
    "name": "ipython",
    "version": 3
   },
   "file_extension": ".py",
   "mimetype": "text/x-python",
   "name": "python",
   "nbconvert_exporter": "python",
   "pygments_lexer": "ipython3",
   "version": "3.9.7"
  }
 },
 "nbformat": 4,
 "nbformat_minor": 5
}
